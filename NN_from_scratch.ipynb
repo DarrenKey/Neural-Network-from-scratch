{
 "cells": [
  {
   "cell_type": "code",
   "execution_count": 1,
   "metadata": {},
   "outputs": [
    {
     "name": "stdout",
     "output_type": "stream",
     "text": [
      "Defaulting to user installation because normal site-packages is not writeable\n",
      "Requirement already satisfied: tensorflow-macos in /Users/darrenkey/Library/Python/3.8/lib/python/site-packages (2.9.2)\n",
      "Requirement already satisfied: setuptools in /Users/darrenkey/Library/Python/3.8/lib/python/site-packages (from tensorflow-macos) (51.1.2)\n",
      "Requirement already satisfied: tensorboard<2.10,>=2.9 in /Users/darrenkey/Library/Python/3.8/lib/python/site-packages (from tensorflow-macos) (2.9.1)\n",
      "Requirement already satisfied: numpy>=1.20 in /Users/darrenkey/Library/Python/3.8/lib/python/site-packages (from tensorflow-macos) (1.23.0)\n",
      "Requirement already satisfied: six>=1.12.0 in /Applications/Xcode.app/Contents/Developer/Library/Frameworks/Python3.framework/Versions/3.8/lib/python3.8/site-packages (from tensorflow-macos) (1.15.0)\n",
      "Requirement already satisfied: flatbuffers<2,>=1.12 in /Users/darrenkey/Library/Python/3.8/lib/python/site-packages (from tensorflow-macos) (1.12)\n",
      "Requirement already satisfied: wrapt>=1.11.0 in /Users/darrenkey/Library/Python/3.8/lib/python/site-packages (from tensorflow-macos) (1.12.1)\n",
      "Requirement already satisfied: grpcio<2.0,>=1.24.3 in /Users/darrenkey/Library/Python/3.8/lib/python/site-packages (from tensorflow-macos) (1.47.0)\n",
      "Requirement already satisfied: gast<=0.4.0,>=0.2.1 in /Users/darrenkey/Library/Python/3.8/lib/python/site-packages (from tensorflow-macos) (0.4.0)\n",
      "Requirement already satisfied: protobuf<3.20,>=3.9.2 in /Users/darrenkey/Library/Python/3.8/lib/python/site-packages (from tensorflow-macos) (3.19.4)\n",
      "Requirement already satisfied: h5py>=2.9.0 in /Users/darrenkey/Library/Python/3.8/lib/python/site-packages (from tensorflow-macos) (3.7.0)\n",
      "Requirement already satisfied: keras<2.10.0,>=2.9.0rc0 in /Users/darrenkey/Library/Python/3.8/lib/python/site-packages (from tensorflow-macos) (2.9.0)\n",
      "Requirement already satisfied: typing-extensions>=3.6.6 in /Users/darrenkey/Library/Python/3.8/lib/python/site-packages (from tensorflow-macos) (4.3.0)\n",
      "Requirement already satisfied: keras-preprocessing>=1.1.1 in /Users/darrenkey/Library/Python/3.8/lib/python/site-packages (from tensorflow-macos) (1.1.2)\n",
      "Requirement already satisfied: google-pasta>=0.1.1 in /Users/darrenkey/Library/Python/3.8/lib/python/site-packages (from tensorflow-macos) (0.2.0)\n",
      "Requirement already satisfied: packaging in /Users/darrenkey/Library/Python/3.8/lib/python/site-packages (from tensorflow-macos) (21.3)\n",
      "Requirement already satisfied: libclang>=13.0.0 in /Users/darrenkey/Library/Python/3.8/lib/python/site-packages (from tensorflow-macos) (14.0.1)\n",
      "Requirement already satisfied: astunparse>=1.6.0 in /Users/darrenkey/Library/Python/3.8/lib/python/site-packages (from tensorflow-macos) (1.6.3)\n",
      "Requirement already satisfied: termcolor>=1.1.0 in /Users/darrenkey/Library/Python/3.8/lib/python/site-packages (from tensorflow-macos) (1.1.0)\n",
      "Requirement already satisfied: tensorflow-estimator<2.10.0,>=2.9.0rc0 in /Users/darrenkey/Library/Python/3.8/lib/python/site-packages (from tensorflow-macos) (2.9.0)\n",
      "Requirement already satisfied: absl-py>=1.0.0 in /Users/darrenkey/Library/Python/3.8/lib/python/site-packages (from tensorflow-macos) (1.1.0)\n",
      "Requirement already satisfied: opt-einsum>=2.3.2 in /Users/darrenkey/Library/Python/3.8/lib/python/site-packages (from tensorflow-macos) (3.3.0)\n",
      "Requirement already satisfied: wheel<1.0,>=0.23.0 in /Users/darrenkey/Library/Python/3.8/lib/python/site-packages (from astunparse>=1.6.0->tensorflow-macos) (0.36.2)\n",
      "Requirement already satisfied: tensorboard-data-server<0.7.0,>=0.6.0 in /Users/darrenkey/Library/Python/3.8/lib/python/site-packages (from tensorboard<2.10,>=2.9->tensorflow-macos) (0.6.1)\n",
      "Requirement already satisfied: requests<3,>=2.21.0 in /Users/darrenkey/Library/Python/3.8/lib/python/site-packages (from tensorboard<2.10,>=2.9->tensorflow-macos) (2.28.1)\n",
      "Requirement already satisfied: markdown>=2.6.8 in /Users/darrenkey/Library/Python/3.8/lib/python/site-packages (from tensorboard<2.10,>=2.9->tensorflow-macos) (3.3.7)\n",
      "Requirement already satisfied: google-auth<3,>=1.6.3 in /Users/darrenkey/Library/Python/3.8/lib/python/site-packages (from tensorboard<2.10,>=2.9->tensorflow-macos) (2.9.0)\n",
      "Requirement already satisfied: werkzeug>=1.0.1 in /Users/darrenkey/Library/Python/3.8/lib/python/site-packages (from tensorboard<2.10,>=2.9->tensorflow-macos) (2.1.2)\n",
      "Requirement already satisfied: tensorboard-plugin-wit>=1.6.0 in /Users/darrenkey/Library/Python/3.8/lib/python/site-packages (from tensorboard<2.10,>=2.9->tensorflow-macos) (1.8.1)\n",
      "Requirement already satisfied: google-auth-oauthlib<0.5,>=0.4.1 in /Users/darrenkey/Library/Python/3.8/lib/python/site-packages (from tensorboard<2.10,>=2.9->tensorflow-macos) (0.4.6)\n",
      "Requirement already satisfied: pyasn1-modules>=0.2.1 in /Users/darrenkey/Library/Python/3.8/lib/python/site-packages (from google-auth<3,>=1.6.3->tensorboard<2.10,>=2.9->tensorflow-macos) (0.2.8)\n",
      "Requirement already satisfied: cachetools<6.0,>=2.0.0 in /Users/darrenkey/Library/Python/3.8/lib/python/site-packages (from google-auth<3,>=1.6.3->tensorboard<2.10,>=2.9->tensorflow-macos) (5.2.0)\n",
      "Requirement already satisfied: rsa<5,>=3.1.4 in /Users/darrenkey/Library/Python/3.8/lib/python/site-packages (from google-auth<3,>=1.6.3->tensorboard<2.10,>=2.9->tensorflow-macos) (4.8)\n",
      "Requirement already satisfied: requests-oauthlib>=0.7.0 in /Users/darrenkey/Library/Python/3.8/lib/python/site-packages (from google-auth-oauthlib<0.5,>=0.4.1->tensorboard<2.10,>=2.9->tensorflow-macos) (1.3.1)\n",
      "Requirement already satisfied: importlib-metadata>=4.4 in /Users/darrenkey/Library/Python/3.8/lib/python/site-packages (from markdown>=2.6.8->tensorboard<2.10,>=2.9->tensorflow-macos) (4.12.0)\n",
      "Requirement already satisfied: zipp>=0.5 in /Users/darrenkey/Library/Python/3.8/lib/python/site-packages (from importlib-metadata>=4.4->markdown>=2.6.8->tensorboard<2.10,>=2.9->tensorflow-macos) (3.8.0)\n",
      "Requirement already satisfied: pyasn1<0.5.0,>=0.4.6 in /Users/darrenkey/Library/Python/3.8/lib/python/site-packages (from pyasn1-modules>=0.2.1->google-auth<3,>=1.6.3->tensorboard<2.10,>=2.9->tensorflow-macos) (0.4.8)\n",
      "Requirement already satisfied: certifi>=2017.4.17 in /Users/darrenkey/Library/Python/3.8/lib/python/site-packages (from requests<3,>=2.21.0->tensorboard<2.10,>=2.9->tensorflow-macos) (2022.6.15)\n",
      "Requirement already satisfied: charset-normalizer<3,>=2 in /Users/darrenkey/Library/Python/3.8/lib/python/site-packages (from requests<3,>=2.21.0->tensorboard<2.10,>=2.9->tensorflow-macos) (2.1.0)\n",
      "Requirement already satisfied: urllib3<1.27,>=1.21.1 in /Users/darrenkey/Library/Python/3.8/lib/python/site-packages (from requests<3,>=2.21.0->tensorboard<2.10,>=2.9->tensorflow-macos) (1.26.9)\n",
      "Requirement already satisfied: idna<4,>=2.5 in /Users/darrenkey/Library/Python/3.8/lib/python/site-packages (from requests<3,>=2.21.0->tensorboard<2.10,>=2.9->tensorflow-macos) (3.3)\n",
      "Requirement already satisfied: oauthlib>=3.0.0 in /Users/darrenkey/Library/Python/3.8/lib/python/site-packages (from requests-oauthlib>=0.7.0->google-auth-oauthlib<0.5,>=0.4.1->tensorboard<2.10,>=2.9->tensorflow-macos) (3.2.0)\n",
      "Requirement already satisfied: pyparsing!=3.0.5,>=2.0.2 in /Users/darrenkey/Library/Python/3.8/lib/python/site-packages (from packaging->tensorflow-macos) (3.0.8)\n",
      "\u001b[33mWARNING: You are using pip version 20.3.3; however, version 22.1.2 is available.\n",
      "You should consider upgrading via the '/Applications/Xcode.app/Contents/Developer/usr/bin/python3 -m pip install --upgrade pip' command.\u001b[0m\n",
      "Defaulting to user installation because normal site-packages is not writeable\n",
      "Requirement already satisfied: numpy in /Users/darrenkey/Library/Python/3.8/lib/python/site-packages (1.23.0)\n",
      "\u001b[33mWARNING: You are using pip version 20.3.3; however, version 22.1.2 is available.\n",
      "You should consider upgrading via the '/Applications/Xcode.app/Contents/Developer/usr/bin/python3 -m pip install --upgrade pip' command.\u001b[0m\n",
      "Defaulting to user installation because normal site-packages is not writeable\n",
      "Requirement already satisfied: pandas in /Users/darrenkey/Library/Python/3.8/lib/python/site-packages (1.4.3)\n",
      "Requirement already satisfied: python-dateutil>=2.8.1 in /Users/darrenkey/Library/Python/3.8/lib/python/site-packages (from pandas) (2.8.2)\n",
      "Requirement already satisfied: pytz>=2020.1 in /Users/darrenkey/Library/Python/3.8/lib/python/site-packages (from pandas) (2022.1)\n",
      "Requirement already satisfied: numpy>=1.18.5 in /Users/darrenkey/Library/Python/3.8/lib/python/site-packages (from pandas) (1.23.0)\n",
      "Requirement already satisfied: six>=1.5 in /Applications/Xcode.app/Contents/Developer/Library/Frameworks/Python3.framework/Versions/3.8/lib/python3.8/site-packages (from python-dateutil>=2.8.1->pandas) (1.15.0)\n",
      "\u001b[33mWARNING: You are using pip version 20.3.3; however, version 22.1.2 is available.\n",
      "You should consider upgrading via the '/Applications/Xcode.app/Contents/Developer/usr/bin/python3 -m pip install --upgrade pip' command.\u001b[0m\n",
      "Defaulting to user installation because normal site-packages is not writeable\n",
      "Requirement already satisfied: matplotlib in /Users/darrenkey/Library/Python/3.8/lib/python/site-packages (3.5.2)\n",
      "Requirement already satisfied: numpy>=1.17 in /Users/darrenkey/Library/Python/3.8/lib/python/site-packages (from matplotlib) (1.23.0)\n",
      "Requirement already satisfied: pyparsing>=2.2.1 in /Users/darrenkey/Library/Python/3.8/lib/python/site-packages (from matplotlib) (3.0.8)\n",
      "Requirement already satisfied: cycler>=0.10 in /Users/darrenkey/Library/Python/3.8/lib/python/site-packages (from matplotlib) (0.11.0)\n",
      "Requirement already satisfied: packaging>=20.0 in /Users/darrenkey/Library/Python/3.8/lib/python/site-packages (from matplotlib) (21.3)\n",
      "Requirement already satisfied: kiwisolver>=1.0.1 in /Users/darrenkey/Library/Python/3.8/lib/python/site-packages (from matplotlib) (1.4.3)\n",
      "Requirement already satisfied: python-dateutil>=2.7 in /Users/darrenkey/Library/Python/3.8/lib/python/site-packages (from matplotlib) (2.8.2)\n",
      "Requirement already satisfied: fonttools>=4.22.0 in /Users/darrenkey/Library/Python/3.8/lib/python/site-packages (from matplotlib) (4.33.3)\n",
      "Requirement already satisfied: pillow>=6.2.0 in /Users/darrenkey/Library/Python/3.8/lib/python/site-packages (from matplotlib) (9.2.0)\n",
      "Requirement already satisfied: six>=1.5 in /Applications/Xcode.app/Contents/Developer/Library/Frameworks/Python3.framework/Versions/3.8/lib/python3.8/site-packages (from python-dateutil>=2.7->matplotlib) (1.15.0)\n",
      "\u001b[33mWARNING: You are using pip version 20.3.3; however, version 22.1.2 is available.\n",
      "You should consider upgrading via the '/Applications/Xcode.app/Contents/Developer/usr/bin/python3 -m pip install --upgrade pip' command.\u001b[0m\n",
      "Defaulting to user installation because normal site-packages is not writeable\n",
      "Requirement already satisfied: keras in /Users/darrenkey/Library/Python/3.8/lib/python/site-packages (2.9.0)\n",
      "\u001b[33mWARNING: You are using pip version 20.3.3; however, version 22.1.2 is available.\n",
      "You should consider upgrading via the '/Applications/Xcode.app/Contents/Developer/usr/bin/python3 -m pip install --upgrade pip' command.\u001b[0m\n",
      "Defaulting to user installation because normal site-packages is not writeable\n",
      "Requirement already satisfied: pip in /Users/darrenkey/Library/Python/3.8/lib/python/site-packages (20.3.3)\n",
      "Collecting pip\n",
      "  Downloading pip-22.1.2-py3-none-any.whl (2.1 MB)\n",
      "\u001b[K     |████████████████████████████████| 2.1 MB 4.9 MB/s eta 0:00:01\n",
      "\u001b[?25hInstalling collected packages: pip\n",
      "  Attempting uninstall: pip\n",
      "    Found existing installation: pip 20.3.3\n",
      "    Uninstalling pip-20.3.3:\n",
      "      Successfully uninstalled pip-20.3.3\n",
      "\u001b[33m  WARNING: The scripts pip, pip3, pip3.10 and pip3.8 are installed in '/Users/darrenkey/Library/Python/3.8/bin' which is not on PATH.\n",
      "  Consider adding this directory to PATH or, if you prefer to suppress this warning, use --no-warn-script-location.\u001b[0m\n",
      "Successfully installed pip-22.1.2\n"
     ]
    }
   ],
   "source": [
    "!pip install tensorflow\n",
    "!pip install numpy\n",
    "!pip install pandas\n",
    "!pip install matplotlib\n"
   ]
  },
  {
   "cell_type": "markdown",
   "metadata": {},
   "source": [
    "# NN from scratch\n",
    "\n",
    "Goal is to reproduce TensorFlow's Sequential from scratch.\n",
    "\n",
    "Focus for now is on single output."
   ]
  },
  {
   "cell_type": "code",
   "execution_count": 74,
   "metadata": {},
   "outputs": [],
   "source": [
    "import numpy as np\n",
    "import matplotlib as mpl\n",
    "import matplotlib.pyplot as plt\n",
    "from typing import List"
   ]
  },
  {
   "cell_type": "markdown",
   "metadata": {},
   "source": [
    "## NN Class\n",
    "\n",
    "Class of layers and networks (collection of layers in sequence)"
   ]
  },
  {
   "cell_type": "code",
   "execution_count": 116,
   "metadata": {},
   "outputs": [],
   "source": [
    "class Layer():\n",
    "    '''\n",
    "    Class for each layer of the NN.\n",
    "    '''\n",
    "    def sigmoid(self, vec):\n",
    "        return 1 / (1 + np.exp(-vec))\n",
    "    \n",
    "    def softplus(self, vec):\n",
    "        return np.log(1 + np.exp(vec))\n",
    "\n",
    "    def relu(self, vec):\n",
    "        return np.maximum(vec, 0)\n",
    "    \n",
    "    def linear(self, vec):\n",
    "        return vec\n",
    "\n",
    "    def set_inputs(self, inputs):\n",
    "        units = self.units\n",
    "        self.inputs = inputs\n",
    "\n",
    "        # Setup weights vector\n",
    "        self.weights = np.zeros((inputs, units))\n",
    "\n",
    "\n",
    "    def __init__(self, units, inputs=1, activation='reLU'):\n",
    "        '''\n",
    "        Initialization\n",
    "\n",
    "        Variables:\n",
    "        units - # of units, int\n",
    "        inputs - # of inputs, int\n",
    "\n",
    "        activation - activation func, function\n",
    "\n",
    "        weights - ndarray (inputs, units), dtype = float64\n",
    "        bias - ndarray (1, units), dtype = float64\n",
    "\n",
    "        '''\n",
    "        self.units = units\n",
    "\n",
    "\n",
    "        if activation == \"sigmoid\":\n",
    "            self.activation = self.sigmoid\n",
    "        elif activation == \"softplus\":\n",
    "            self.activation = self.softplus\n",
    "        elif activation == \"reLU\":\n",
    "            self.activation = self.relu\n",
    "        else:\n",
    "            # linear as default activation function\n",
    "            self.activation = self.linear\n",
    "\n",
    "        self.bias = np.zeros((1, units))\n",
    "\n",
    "        self.set_inputs(inputs)\n",
    "\n",
    "    def forward_pass(self, input_vector : np.ndarray):\n",
    "        '''\n",
    "        Forward pass\n",
    "        \n",
    "        Parameters:\n",
    "        input_vector : ndarray (inputs, 1)\n",
    "\n",
    "        Returns:\n",
    "        output_vector : ndarray(units, 1)\n",
    "        '''\n",
    "        x = (np.matmul(input_vector.T, self.weights)) + self.bias\n",
    "        x = x.T\n",
    "        return self.activation(x)\n",
    "    \n",
    "    __call__ = forward_pass\n",
    "    \n",
    "    def set_weights(self, weight_vector : np.ndarray):\n",
    "        '''\n",
    "        Manually set weights\n",
    "\n",
    "        Parameters:\n",
    "        weight_vector : ndarray (inputs, units)\n",
    "        '''\n",
    "\n",
    "        self.weights = weight_vector\n",
    "\n",
    "    def set_bias(self, bias_vector : np.ndarray):\n",
    "        '''\n",
    "        Manually set weights\n",
    "\n",
    "        Parameters:\n",
    "        bias_vector : ndarray (1, units), dtype = float64\n",
    "        '''\n",
    "\n",
    "        self.bias = bias_vector \n",
    "    \n",
    "\n",
    "        \n",
    "# Basic test\n",
    "test = Layer(2)\n",
    "\n",
    "test_a1 = np.array([[1], [2]])\n",
    "\n",
    "test.set_weights(np.array([[1.5, 0.3],[2.6, 0.8]]))\n",
    "test.set_bias(np.array([[1.2,1.4]]))\n",
    "\n",
    "assert np.array_equal(test(test_a1),np.array([[7.9], [3.3]]))\n",
    "\n"
   ]
  },
  {
   "cell_type": "code",
   "execution_count": null,
   "metadata": {},
   "outputs": [],
   "source": []
  },
  {
   "cell_type": "code",
   "execution_count": 117,
   "metadata": {},
   "outputs": [],
   "source": [
    "class NeuralNetwork():\n",
    "    '''\n",
    "    Neural Network class\n",
    "    '''\n",
    "    def __init__(self, layers : List[Layer]):\n",
    "        '''\n",
    "        Setup Neural Network from a list of layers\n",
    "\n",
    "        Initializes inputs automatically besides the first layer\n",
    "        '''\n",
    "\n",
    "        self.layers = layers\n",
    "\n",
    "        for i in range(1, len(layers)):\n",
    "            prev_layer_outputs = layers[i - 1].weights.shape[1]\n",
    "\n",
    "            layers[i].set_inputs(prev_layer_outputs)\n",
    "\n",
    "    def forward_pass(self, input_vector : np.ndarray):\n",
    "        '''\n",
    "        Forward pass thru whole network\n",
    "        \n",
    "        Parameters:\n",
    "        input_vector : ndarray (inputs, 1)\n",
    "\n",
    "        Returns:\n",
    "        output_vector : ndarray (units, 1)\n",
    "        '''\n",
    "\n",
    "        for i in range(len(self.layers)):\n",
    "            input_vector = self.layers[i].forward_pass(input_vector)\n",
    "        return input_vector\n",
    "    \n",
    "    __call__ = forward_pass\n"
   ]
  },
  {
   "cell_type": "markdown",
   "metadata": {},
   "source": [
    "### Testing from simple NN given in StatQuest video"
   ]
  },
  {
   "cell_type": "markdown",
   "metadata": {},
   "source": [
    "ReLU Test - Looks good\n"
   ]
  },
  {
   "cell_type": "code",
   "execution_count": 118,
   "metadata": {},
   "outputs": [
    {
     "data": {
      "text/plain": [
       "[<matplotlib.lines.Line2D at 0x7f9928b27bd0>]"
      ]
     },
     "execution_count": 118,
     "metadata": {},
     "output_type": "execute_result"
    },
    {
     "data": {
      "image/png": "[encoded data removed]",
      "text/plain": [
       "<Figure size 432x288 with 1 Axes>"
      ]
     },
     "metadata": {
      "needs_background": "light"
     },
     "output_type": "display_data"
    }
   ],
   "source": [
    "layer1 = Layer(2)\n",
    "\n",
    "output_layer = Layer(1)\n",
    "test_from_statquest = NeuralNetwork([\n",
    "    layer1, output_layer\n",
    "])\n",
    "\n",
    "layer1.set_weights(np.array([[1.7,12.6]]))\n",
    "layer1.set_bias(np.array([[-.85,-.00]]))\n",
    "\n",
    "\n",
    "output_layer.set_weights(np.array([[-40.8], [2.7]]))\n",
    "output_layer.set_bias(np.array([[-16]]))\n",
    "\n",
    "t = np.arange(0, 1, 0.01).reshape((1, -1))\n",
    "plt.plot(t.flatten(), test_from_statquest(t).flatten())"
   ]
  },
  {
   "cell_type": "markdown",
   "metadata": {},
   "source": [
    "Sigmoid test"
   ]
  },
  {
   "cell_type": "code",
   "execution_count": 119,
   "metadata": {},
   "outputs": [
    {
     "data": {
      "text/plain": [
       "2.2315619419837787"
      ]
     },
     "execution_count": 119,
     "metadata": {},
     "output_type": "execute_result"
    },
    {
     "data": {
      "image/png": "[encoded data removed]",
      "text/plain": [
       "<Figure size 432x288 with 1 Axes>"
      ]
     },
     "metadata": {
      "needs_background": "light"
     },
     "output_type": "display_data"
    }
   ],
   "source": [
    "layer1 = Layer(2, activation=\"softplus\")\n",
    "\n",
    "output_layer = Layer(1, activation=\"linear\")\n",
    "test_from_statquest = NeuralNetwork([\n",
    "    layer1, output_layer\n",
    "])\n",
    "\n",
    "layer1.set_weights(np.array([[-34.4,-2.52]]))\n",
    "layer1.set_bias(np.array([[2.14,1.29]]))\n",
    "\n",
    "\n",
    "output_layer.set_weights(np.array([[-1.30], [2.28]]))\n",
    "output_layer.set_bias(np.array([[-.58]]))\n",
    "\n",
    "\n",
    "t = np.arange(0, 1, 0.001).reshape((1, -1))\n",
    "plt.plot(t.flatten(), test_from_statquest(t).flatten())\n"
   ]
  },
  {
   "cell_type": "markdown",
   "metadata": {},
   "source": [
    "## Forward Propagation"
   ]
  },
  {
   "cell_type": "code",
   "execution_count": 3,
   "metadata": {},
   "outputs": [
    {
     "name": "stdout",
     "output_type": "stream",
     "text": [
      "asdfasd\n"
     ]
    }
   ],
   "source": []
  },
  {
   "cell_type": "code",
   "execution_count": null,
   "metadata": {},
   "outputs": [],
   "source": []
  }
 ],
 "metadata": {
  "kernelspec": {
   "display_name": "Python 3.7.9 64-bit",
   "language": "python",
   "name": "python3"
  },
  "language_info": {
   "codemirror_mode": {
    "name": "ipython",
    "version": 3
   },
   "file_extension": ".py",
   "mimetype": "text/x-python",
   "name": "python",
   "nbconvert_exporter": "python",
   "pygments_lexer": "ipython3",
   "version": "3.7.9"
  },
  "orig_nbformat": 4,
  "vscode": {
   "interpreter": {
    "hash": "aee8b7b246df8f9039afb4144a1f6fd8d2ca17a180786b69acc140d282b71a49"
   }
  }
 },
 "nbformat": 4,
 "nbformat_minor": 2
}
